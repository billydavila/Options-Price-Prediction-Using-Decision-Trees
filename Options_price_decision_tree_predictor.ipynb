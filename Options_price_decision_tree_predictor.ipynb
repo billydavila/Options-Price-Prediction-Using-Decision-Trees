{
 "cells": [
  {
   "cell_type": "markdown",
   "metadata": {},
   "source": [
    "# Options Price Prediction using Decision Tree\n",
    "In this notebook, we will create a decision tree classifier on a Nifty options data set by learning the decision rules from the training data set and use this decision tree in the test data set to predict whether the option price will go up (+1) or go down (-1) after one day."
   ]
  },
  {
   "cell_type": "markdown",
   "metadata": {},
   "source": [
    "## Decision Trees\n",
    "* Decision Trees are a type of Supervised Machine Learning (that is you explain what the input is and what the corresponding output is in the training data) since the training dataset is labeled and we know that the option price willl either go up or go down.\n",
    "* In this supervised machine learning, the data is continuously split according to a certain parameter. The tree can be explained by two entities, namely decision nodes and leaves. The leaves are the decisions or the final outcomes. And the decision nodes are where the data is split. \n",
    "* In a decision tree, each root node represents the predictor variable, and a split point on that variable. While each leaf node of the tree contains an output variable.\n",
    "* Once a decision tree is created, it can be navigated with a new data following each branch with the splits until a final prediction is made. \n",
    "* Regarding the inputs, we can use the implied volatility and greeks such as delta, gamma, theta, and vega as inputs for predicting the direction of the option price. i.e. Consider the example of only using the implied volatility is high, the option price worths more so it is an incentive to sell the option. The decision tree classifier helps to determine the threshold value at which the implied volatility is considered high and we should sell the option."
   ]
  },
  {
   "cell_type": "markdown",
   "metadata": {},
   "source": [
    "## Methodology\n",
    "1. Define predictor variables\n",
    "2. Split the data into train and test dataset\n",
    "3. Create a decision tree classifier using the test data\n",
    "4. Compute the accuracy of the decision tree classifier\n",
    "5. Plot the performance of the classifier in the test data"
   ]
  },
  {
   "cell_type": "markdown",
   "metadata": {},
   "source": [
    "## Import libraries"
   ]
  },
  {
   "cell_type": "code",
   "execution_count": 1,
   "metadata": {},
   "outputs": [],
   "source": [
    "# Data manipulation and mathematical functions\n",
    "import pandas as pd\n",
    "import numpy as np\n",
    "\n",
    "# Machine learning\n",
    "from sklearn.tree import DecisionTreeClassifier\n",
    "from sklearn.preprocessing import MinMaxScaler\n",
    "from sklearn.metrics import accuracy_score\n",
    "\n",
    "# Use for plotting our result outcomes\n",
    "import matplotlib.pyplot as plt"
   ]
  },
  {
   "cell_type": "markdown",
   "metadata": {},
   "source": [
    "## Read the data"
   ]
  },
  {
   "cell_type": "code",
   "execution_count": 2,
   "metadata": {},
   "outputs": [
    {
     "data": {
      "text/html": [
       "<div>\n",
       "<style scoped>\n",
       "    .dataframe tbody tr th:only-of-type {\n",
       "        vertical-align: middle;\n",
       "    }\n",
       "\n",
       "    .dataframe tbody tr th {\n",
       "        vertical-align: top;\n",
       "    }\n",
       "\n",
       "    .dataframe thead th {\n",
       "        text-align: right;\n",
       "    }\n",
       "</style>\n",
       "<table border=\"1\" class=\"dataframe\">\n",
       "  <thead>\n",
       "    <tr style=\"text-align: right;\">\n",
       "      <th></th>\n",
       "      <th>Date</th>\n",
       "      <th>Expiry</th>\n",
       "      <th>Future_Close</th>\n",
       "      <th>Strike Price</th>\n",
       "      <th>Time_to_Expiry</th>\n",
       "      <th>LTP</th>\n",
       "      <th>IV</th>\n",
       "      <th>Delta</th>\n",
       "      <th>Gamma</th>\n",
       "      <th>Vega</th>\n",
       "      <th>Theta</th>\n",
       "    </tr>\n",
       "  </thead>\n",
       "  <tbody>\n",
       "    <tr>\n",
       "      <th>0</th>\n",
       "      <td>2016-11-28</td>\n",
       "      <td>2017-01-25</td>\n",
       "      <td>8172.00</td>\n",
       "      <td>9000</td>\n",
       "      <td>58</td>\n",
       "      <td>9.20</td>\n",
       "      <td>14.343262</td>\n",
       "      <td>0.048521</td>\n",
       "      <td>0.000216</td>\n",
       "      <td>3.280132</td>\n",
       "      <td>-0.405584</td>\n",
       "    </tr>\n",
       "    <tr>\n",
       "      <th>1</th>\n",
       "      <td>2016-11-29</td>\n",
       "      <td>2017-01-25</td>\n",
       "      <td>8210.00</td>\n",
       "      <td>9000</td>\n",
       "      <td>57</td>\n",
       "      <td>7.90</td>\n",
       "      <td>13.488770</td>\n",
       "      <td>0.044860</td>\n",
       "      <td>0.000216</td>\n",
       "      <td>3.067564</td>\n",
       "      <td>-0.362962</td>\n",
       "    </tr>\n",
       "    <tr>\n",
       "      <th>2</th>\n",
       "      <td>2016-11-30</td>\n",
       "      <td>2017-01-25</td>\n",
       "      <td>8287.00</td>\n",
       "      <td>9000</td>\n",
       "      <td>56</td>\n",
       "      <td>9.95</td>\n",
       "      <td>13.061523</td>\n",
       "      <td>0.056179</td>\n",
       "      <td>0.000267</td>\n",
       "      <td>3.671850</td>\n",
       "      <td>-0.428214</td>\n",
       "    </tr>\n",
       "    <tr>\n",
       "      <th>3</th>\n",
       "      <td>2016-12-01</td>\n",
       "      <td>2017-01-25</td>\n",
       "      <td>8245.10</td>\n",
       "      <td>9000</td>\n",
       "      <td>55</td>\n",
       "      <td>8.20</td>\n",
       "      <td>13.305664</td>\n",
       "      <td>0.047429</td>\n",
       "      <td>0.000232</td>\n",
       "      <td>3.164577</td>\n",
       "      <td>-0.382789</td>\n",
       "    </tr>\n",
       "    <tr>\n",
       "      <th>4</th>\n",
       "      <td>2016-12-02</td>\n",
       "      <td>2017-01-25</td>\n",
       "      <td>8141.75</td>\n",
       "      <td>9000</td>\n",
       "      <td>54</td>\n",
       "      <td>8.00</td>\n",
       "      <td>14.923096</td>\n",
       "      <td>0.042963</td>\n",
       "      <td>0.000195</td>\n",
       "      <td>2.859500</td>\n",
       "      <td>-0.395117</td>\n",
       "    </tr>\n",
       "  </tbody>\n",
       "</table>\n",
       "</div>"
      ],
      "text/plain": [
       "         Date      Expiry  Future_Close  Strike Price  Time_to_Expiry   LTP  \\\n",
       "0  2016-11-28  2017-01-25       8172.00          9000              58  9.20   \n",
       "1  2016-11-29  2017-01-25       8210.00          9000              57  7.90   \n",
       "2  2016-11-30  2017-01-25       8287.00          9000              56  9.95   \n",
       "3  2016-12-01  2017-01-25       8245.10          9000              55  8.20   \n",
       "4  2016-12-02  2017-01-25       8141.75          9000              54  8.00   \n",
       "\n",
       "          IV     Delta     Gamma      Vega     Theta  \n",
       "0  14.343262  0.048521  0.000216  3.280132 -0.405584  \n",
       "1  13.488770  0.044860  0.000216  3.067564 -0.362962  \n",
       "2  13.061523  0.056179  0.000267  3.671850 -0.428214  \n",
       "3  13.305664  0.047429  0.000232  3.164577 -0.382789  \n",
       "4  14.923096  0.042963  0.000195  2.859500 -0.395117  "
      ]
     },
     "execution_count": 2,
     "metadata": {},
     "output_type": "execute_result"
    }
   ],
   "source": [
    "Nifty_data = pd.read_csv('Nifty_ML_data.csv')\n",
    "Nifty_data.head()"
   ]
  },
  {
   "cell_type": "markdown",
   "metadata": {},
   "source": [
    "## Predictor variables\n",
    "\n",
    "As stated before, the predictor variables are used as the decision criteria to predict whether the option price will go up (+1) or go down (-1) the next day. It consists of variables that affect the price of the Eurepean option such as IV (implied volatility), Delta, Gamma, Theta, and Vega. "
   ]
  },
  {
   "cell_type": "code",
   "execution_count": 3,
   "metadata": {},
   "outputs": [
    {
     "data": {
      "text/html": [
       "<div>\n",
       "<style scoped>\n",
       "    .dataframe tbody tr th:only-of-type {\n",
       "        vertical-align: middle;\n",
       "    }\n",
       "\n",
       "    .dataframe tbody tr th {\n",
       "        vertical-align: top;\n",
       "    }\n",
       "\n",
       "    .dataframe thead th {\n",
       "        text-align: right;\n",
       "    }\n",
       "</style>\n",
       "<table border=\"1\" class=\"dataframe\">\n",
       "  <thead>\n",
       "    <tr style=\"text-align: right;\">\n",
       "      <th></th>\n",
       "      <th>IV</th>\n",
       "      <th>Delta</th>\n",
       "      <th>Gamma</th>\n",
       "      <th>Theta</th>\n",
       "      <th>Vega</th>\n",
       "    </tr>\n",
       "  </thead>\n",
       "  <tbody>\n",
       "    <tr>\n",
       "      <th>0</th>\n",
       "      <td>14.343262</td>\n",
       "      <td>0.048521</td>\n",
       "      <td>0.000216</td>\n",
       "      <td>-0.405584</td>\n",
       "      <td>3.280132</td>\n",
       "    </tr>\n",
       "    <tr>\n",
       "      <th>1</th>\n",
       "      <td>13.488770</td>\n",
       "      <td>0.044860</td>\n",
       "      <td>0.000216</td>\n",
       "      <td>-0.362962</td>\n",
       "      <td>3.067564</td>\n",
       "    </tr>\n",
       "    <tr>\n",
       "      <th>2</th>\n",
       "      <td>13.061523</td>\n",
       "      <td>0.056179</td>\n",
       "      <td>0.000267</td>\n",
       "      <td>-0.428214</td>\n",
       "      <td>3.671850</td>\n",
       "    </tr>\n",
       "    <tr>\n",
       "      <th>3</th>\n",
       "      <td>13.305664</td>\n",
       "      <td>0.047429</td>\n",
       "      <td>0.000232</td>\n",
       "      <td>-0.382789</td>\n",
       "      <td>3.164577</td>\n",
       "    </tr>\n",
       "    <tr>\n",
       "      <th>4</th>\n",
       "      <td>14.923096</td>\n",
       "      <td>0.042963</td>\n",
       "      <td>0.000195</td>\n",
       "      <td>-0.395117</td>\n",
       "      <td>2.859500</td>\n",
       "    </tr>\n",
       "  </tbody>\n",
       "</table>\n",
       "</div>"
      ],
      "text/plain": [
       "          IV     Delta     Gamma     Theta      Vega\n",
       "0  14.343262  0.048521  0.000216 -0.405584  3.280132\n",
       "1  13.488770  0.044860  0.000216 -0.362962  3.067564\n",
       "2  13.061523  0.056179  0.000267 -0.428214  3.671850\n",
       "3  13.305664  0.047429  0.000232 -0.382789  3.164577\n",
       "4  14.923096  0.042963  0.000195 -0.395117  2.859500"
      ]
     },
     "execution_count": 3,
     "metadata": {},
     "output_type": "execute_result"
    }
   ],
   "source": [
    "predictors = Nifty_data[['IV', 'Delta', 'Gamma', 'Theta', 'Vega']]\n",
    "predictors.head()"
   ]
  },
  {
   "cell_type": "markdown",
   "metadata": {},
   "source": [
    "## Compute the actual signal\n",
    "\n",
    "If tomorrow's predicted price is greater than today's price then we will buy the option, else we will sell the option. We will store +1 for buy and -1 for sell in a target numpy array. This will be used to see how accurate our predictions are."
   ]
  },
  {
   "cell_type": "code",
   "execution_count": 4,
   "metadata": {},
   "outputs": [],
   "source": [
    "actual_signals = np.where(Nifty_data.LTP.shift(-1) > Nifty_data.LTP, 1, -1)"
   ]
  },
  {
   "cell_type": "markdown",
   "metadata": {},
   "source": [
    "## Split and define the train and the test data set\n",
    "\n",
    "\n",
    "1. The first 70 days of data will be used for training and the remaining data for testing.\n",
    "2. predictors_train & target_train are training dataset\n",
    "3. predictors_test & target_test are test dataset"
   ]
  },
  {
   "cell_type": "code",
   "execution_count": 5,
   "metadata": {},
   "outputs": [],
   "source": [
    "# Number of days to train\n",
    "t = 70\n",
    "\n",
    "# Train dataset\n",
    "predictors_train = predictors[:t]\n",
    "target_train = actual_signals[:t]\n",
    "\n",
    "# Test dataset\n",
    "predictors_test = predictors[t:]\n",
    "target_test = actual_signals[t:]"
   ]
  },
  {
   "cell_type": "markdown",
   "metadata": {},
   "source": [
    "## Classification\n",
    "\n",
    "### Decision tree classifier\n",
    "We will use DecisionTreeClassifier() function for classification. The parameters used in this function are:\n",
    "\n",
    "1. <font color=blue>max_depth:</font> It denotes maximum depth of the tree. It takes any integer value. \n",
    "2. <font color=blue>min_samples_split:</font> It is the minimum number of samples required to split a node. \n",
    "3. <font color=blue>max_leaf_nodes:</font> It defines the maximum number of possible leaf nodes. \n",
    "\n",
    "### Fit the classifier\n",
    "\n",
    "We will create our decision tree classifier model using the fit() method on the training dataset."
   ]
  },
  {
   "cell_type": "code",
   "execution_count": 6,
   "metadata": {},
   "outputs": [
    {
     "data": {
      "text/plain": [
       "DecisionTreeClassifier(ccp_alpha=0.0, class_weight=None, criterion='gini',\n",
       "                       max_depth=6, max_features=None, max_leaf_nodes=8,\n",
       "                       min_impurity_decrease=0.0, min_impurity_split=None,\n",
       "                       min_samples_leaf=1, min_samples_split=2,\n",
       "                       min_weight_fraction_leaf=0.0, presort='deprecated',\n",
       "                       random_state=None, splitter='best')"
      ]
     },
     "execution_count": 6,
     "metadata": {},
     "output_type": "execute_result"
    }
   ],
   "source": [
    "cls = DecisionTreeClassifier(\n",
    "    max_depth=6, min_samples_split=2, max_leaf_nodes=8)\n",
    "cls.fit(predictors_train, target_train)"
   ]
  },
  {
   "cell_type": "markdown",
   "metadata": {},
   "source": [
    "## Classifier accuracy\n",
    "\n",
    "Now let's see how accurate the predictions were. We will compute the accuracy of the algorithm on the test data, by comparing the actual values in the test data with the predicted values for the test data. The function accuracy_score() will be used to calculate the accuracy.\n",
    "\n",
    "<B>Syntax:</B> accuracy_score(<font color=blue>target_actual_value</font>,<font color=blue>target_predicted_value</font>)\n",
    "1. <font color=blue>target_actual_value:</font> correct signal values\n",
    "2. <font color=blue>target_predicted_value:</font> predicted signal values"
   ]
  },
  {
   "cell_type": "code",
   "execution_count": 7,
   "metadata": {},
   "outputs": [
    {
     "name": "stdout",
     "output_type": "stream",
     "text": [
      "\n",
      "Train Accuracy: 82.86%\n",
      "Test Accuracy: 54.10%\n"
     ]
    }
   ],
   "source": [
    "accuracy_train = accuracy_score(target_train, cls.predict(predictors_train))\n",
    "accuracy_test = accuracy_score(target_test, cls.predict(predictors_test))\n",
    "\n",
    "print('\\nTrain Accuracy:{: .2f}%'.format(accuracy_train*100))\n",
    "print('Test Accuracy:{: .2f}%'.format(accuracy_test*100))"
   ]
  },
  {
   "cell_type": "markdown",
   "metadata": {},
   "source": [
    "We got an accuracy of 50%+ in the test data which suggests that our decision tree classifier is effective."
   ]
  },
  {
   "cell_type": "markdown",
   "metadata": {},
   "source": [
    "## Strategy performance"
   ]
  },
  {
   "cell_type": "code",
   "execution_count": 8,
   "metadata": {},
   "outputs": [
    {
     "data": {
      "image/png": "[encoded data removed]",
      "text/plain": [
       "<Figure size 720x360 with 1 Axes>"
      ]
     },
     "metadata": {
      "needs_background": "light"
     },
     "output_type": "display_data"
    }
   ],
   "source": [
    "Nifty_data['Predicted_Signal'] = cls.predict(predictors)\n",
    "\n",
    "# Calculate the returns\n",
    "# LTP is the last traded price\n",
    "Nifty_data['Return'] = (Nifty_data.LTP.shift(-1) / Nifty_data.LTP)-1\n",
    "Nifty_data['Strategy_return'] = Nifty_data.Return * Nifty_data.Predicted_Signal\n",
    "Nifty_data.Strategy_return.iloc[t:].cumsum().plot(figsize=(10, 5), grid = True)\n",
    "plt.xlabel(\"Days (Test Data)\")\n",
    "plt.ylabel(\"Strategy Returns (%)\")\n",
    "plt.show()"
   ]
  },
  {
   "cell_type": "code",
   "execution_count": null,
   "metadata": {},
   "outputs": [],
   "source": []
  }
 ],
 "metadata": {
  "kernelspec": {
   "display_name": "Python 3",
   "language": "python",
   "name": "python3"
  },
  "language_info": {
   "codemirror_mode": {
    "name": "ipython",
    "version": 3
   },
   "file_extension": ".py",
   "mimetype": "text/x-python",
   "name": "python",
   "nbconvert_exporter": "python",
   "pygments_lexer": "ipython3",
   "version": "3.7.6"
  }
 },
 "nbformat": 4,
 "nbformat_minor": 4
}
